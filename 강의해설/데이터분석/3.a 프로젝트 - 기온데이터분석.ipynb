{
 "cells": [
  {
   "cell_type": "markdown",
   "metadata": {},
   "source": [
    "# PYTHON PROGRAMMING \n"
   ]
  },
  {
   "cell_type": "code",
   "execution_count": null,
   "metadata": {},
   "outputs": [],
   "source": []
  },
  {
   "cell_type": "code",
   "execution_count": 1,
   "metadata": {},
   "outputs": [],
   "source": [
    "import numpy as np\n",
    "import pandas as pd\n",
    "import matplotlib.pyplot as plt\n",
    "import seaborn as sb\n",
    "\n",
    "%matplotlib inline\n",
    "\n",
    "import platform\n",
    "\n",
    "from matplotlib import font_manager, rc\n",
    "plt.rcParams['axes.unicode_minus'] = False\n",
    "\n",
    "if platform.system() == 'Darwin':\n",
    "    rc('font', family='AppleGothic')\n",
    "elif platform.system() == 'Windows':\n",
    "    path = \"c:/Windows/Fonts/malgun.ttf\"\n",
    "    font_name = font_manager.FontProperties(fname=path).get_name()\n",
    "    rc('font', family=font_name)\n",
    "else:\n",
    "    print('Unknown system... sorry~~~~')"
   ]
  },
  {
   "cell_type": "markdown",
   "metadata": {},
   "source": [
    "# 기온데이터 분석"
   ]
  },
  {
   "cell_type": "markdown",
   "metadata": {},
   "source": [
    "### 1907년부터 2018년3월까지의 서울 기온 데이터를 CSV로 다운로드 한다."
   ]
  },
  {
   "cell_type": "markdown",
   "metadata": {},
   "source": [
    "### - 다운로드 파일을 미리 제공해서 폴더에 넣어두었습니다. seoul.csv 파일을 열어 보세요. encoding='cp949'"
   ]
  },
  {
   "cell_type": "code",
   "execution_count": 4,
   "metadata": {},
   "outputs": [],
   "source": [
    "df = pd.read_csv('../data/seoul.csv', encoding='cp949')"
   ]
  },
  {
   "cell_type": "code",
   "execution_count": 6,
   "metadata": {},
   "outputs": [
    {
     "data": {
      "text/html": [
       "<div>\n",
       "<style scoped>\n",
       "    .dataframe tbody tr th:only-of-type {\n",
       "        vertical-align: middle;\n",
       "    }\n",
       "\n",
       "    .dataframe tbody tr th {\n",
       "        vertical-align: top;\n",
       "    }\n",
       "\n",
       "    .dataframe thead th {\n",
       "        text-align: right;\n",
       "    }\n",
       "</style>\n",
       "<table border=\"1\" class=\"dataframe\">\n",
       "  <thead>\n",
       "    <tr style=\"text-align: right;\">\n",
       "      <th></th>\n",
       "      <th>지점</th>\n",
       "      <th>평균기온(℃)</th>\n",
       "      <th>최저기온(℃)</th>\n",
       "      <th>최고기온(℃)</th>\n",
       "    </tr>\n",
       "  </thead>\n",
       "  <tbody>\n",
       "    <tr>\n",
       "      <th>count</th>\n",
       "      <td>39926.0</td>\n",
       "      <td>39170.000000</td>\n",
       "      <td>39169.000000</td>\n",
       "      <td>39168.000000</td>\n",
       "    </tr>\n",
       "    <tr>\n",
       "      <th>mean</th>\n",
       "      <td>108.0</td>\n",
       "      <td>11.672716</td>\n",
       "      <td>7.374237</td>\n",
       "      <td>16.684921</td>\n",
       "    </tr>\n",
       "    <tr>\n",
       "      <th>std</th>\n",
       "      <td>0.0</td>\n",
       "      <td>10.664129</td>\n",
       "      <td>10.887584</td>\n",
       "      <td>10.996621</td>\n",
       "    </tr>\n",
       "    <tr>\n",
       "      <th>min</th>\n",
       "      <td>108.0</td>\n",
       "      <td>-19.200000</td>\n",
       "      <td>-23.100000</td>\n",
       "      <td>-16.300000</td>\n",
       "    </tr>\n",
       "    <tr>\n",
       "      <th>25%</th>\n",
       "      <td>108.0</td>\n",
       "      <td>2.600000</td>\n",
       "      <td>-1.500000</td>\n",
       "      <td>7.100000</td>\n",
       "    </tr>\n",
       "    <tr>\n",
       "      <th>50%</th>\n",
       "      <td>108.0</td>\n",
       "      <td>12.900000</td>\n",
       "      <td>7.900000</td>\n",
       "      <td>18.500000</td>\n",
       "    </tr>\n",
       "    <tr>\n",
       "      <th>75%</th>\n",
       "      <td>108.0</td>\n",
       "      <td>21.200000</td>\n",
       "      <td>17.000000</td>\n",
       "      <td>26.200000</td>\n",
       "    </tr>\n",
       "    <tr>\n",
       "      <th>max</th>\n",
       "      <td>108.0</td>\n",
       "      <td>33.100000</td>\n",
       "      <td>28.800000</td>\n",
       "      <td>38.400000</td>\n",
       "    </tr>\n",
       "  </tbody>\n",
       "</table>\n",
       "</div>"
      ],
      "text/plain": [
       "            지점       평균기온(℃)       최저기온(℃)       최고기온(℃)\n",
       "count  39926.0  39170.000000  39169.000000  39168.000000\n",
       "mean     108.0     11.672716      7.374237     16.684921\n",
       "std        0.0     10.664129     10.887584     10.996621\n",
       "min      108.0    -19.200000    -23.100000    -16.300000\n",
       "25%      108.0      2.600000     -1.500000      7.100000\n",
       "50%      108.0     12.900000      7.900000     18.500000\n",
       "75%      108.0     21.200000     17.000000     26.200000\n",
       "max      108.0     33.100000     28.800000     38.400000"
      ]
     },
     "execution_count": 6,
     "metadata": {},
     "output_type": "execute_result"
    }
   ],
   "source": [
    "df.describe()"
   ]
  },
  {
   "cell_type": "code",
   "execution_count": 8,
   "metadata": {},
   "outputs": [
    {
     "data": {
      "text/plain": [
       "count          39926\n",
       "unique         39926\n",
       "top       1907-10-01\n",
       "freq               1\n",
       "Name: 날짜, dtype: object"
      ]
     },
     "execution_count": 8,
     "metadata": {},
     "output_type": "execute_result"
    }
   ],
   "source": [
    "df['날짜'].describe()"
   ]
  },
  {
   "cell_type": "code",
   "execution_count": null,
   "metadata": {},
   "outputs": [],
   "source": []
  },
  {
   "cell_type": "markdown",
   "metadata": {},
   "source": [
    "## 실습 1. 가장 더운날은 언제입니까?"
   ]
  },
  {
   "cell_type": "code",
   "execution_count": 11,
   "metadata": {},
   "outputs": [
    {
     "data": {
      "text/plain": [
       "38.4"
      ]
     },
     "execution_count": 11,
     "metadata": {},
     "output_type": "execute_result"
    }
   ],
   "source": [
    "df['최고기온(℃)'].max()"
   ]
  },
  {
   "cell_type": "code",
   "execution_count": 14,
   "metadata": {},
   "outputs": [
    {
     "data": {
      "text/plain": [
       "0        False\n",
       "1        False\n",
       "2        False\n",
       "3        False\n",
       "4        False\n",
       "         ...  \n",
       "39921    False\n",
       "39922    False\n",
       "39923    False\n",
       "39924    False\n",
       "39925    False\n",
       "Name: 최고기온(℃), Length: 39926, dtype: bool"
      ]
     },
     "execution_count": 14,
     "metadata": {},
     "output_type": "execute_result"
    }
   ],
   "source": [
    "df['최고기온(℃)'] == df['최고기온(℃)'].max()"
   ]
  },
  {
   "cell_type": "code",
   "execution_count": 16,
   "metadata": {},
   "outputs": [
    {
     "data": {
      "text/html": [
       "<div>\n",
       "<style scoped>\n",
       "    .dataframe tbody tr th:only-of-type {\n",
       "        vertical-align: middle;\n",
       "    }\n",
       "\n",
       "    .dataframe tbody tr th {\n",
       "        vertical-align: top;\n",
       "    }\n",
       "\n",
       "    .dataframe thead th {\n",
       "        text-align: right;\n",
       "    }\n",
       "</style>\n",
       "<table border=\"1\" class=\"dataframe\">\n",
       "  <thead>\n",
       "    <tr style=\"text-align: right;\">\n",
       "      <th></th>\n",
       "      <th>날짜</th>\n",
       "      <th>지점</th>\n",
       "      <th>평균기온(℃)</th>\n",
       "      <th>최저기온(℃)</th>\n",
       "      <th>최고기온(℃)</th>\n",
       "    </tr>\n",
       "  </thead>\n",
       "  <tbody>\n",
       "    <tr>\n",
       "      <th>31277</th>\n",
       "      <td>1994-07-24</td>\n",
       "      <td>108</td>\n",
       "      <td>33.1</td>\n",
       "      <td>28.1</td>\n",
       "      <td>38.4</td>\n",
       "    </tr>\n",
       "  </tbody>\n",
       "</table>\n",
       "</div>"
      ],
      "text/plain": [
       "               날짜   지점  평균기온(℃)  최저기온(℃)  최고기온(℃)\n",
       "31277  1994-07-24  108     33.1     28.1     38.4"
      ]
     },
     "execution_count": 16,
     "metadata": {},
     "output_type": "execute_result"
    }
   ],
   "source": [
    "df.loc[ df['최고기온(℃)'] == df['최고기온(℃)'].max() , ]"
   ]
  },
  {
   "cell_type": "code",
   "execution_count": null,
   "metadata": {},
   "outputs": [],
   "source": []
  },
  {
   "cell_type": "code",
   "execution_count": 17,
   "metadata": {},
   "outputs": [],
   "source": [
    "# 정렬"
   ]
  },
  {
   "cell_type": "code",
   "execution_count": 22,
   "metadata": {},
   "outputs": [
    {
     "data": {
      "text/html": [
       "<div>\n",
       "<style scoped>\n",
       "    .dataframe tbody tr th:only-of-type {\n",
       "        vertical-align: middle;\n",
       "    }\n",
       "\n",
       "    .dataframe tbody tr th {\n",
       "        vertical-align: top;\n",
       "    }\n",
       "\n",
       "    .dataframe thead th {\n",
       "        text-align: right;\n",
       "    }\n",
       "</style>\n",
       "<table border=\"1\" class=\"dataframe\">\n",
       "  <thead>\n",
       "    <tr style=\"text-align: right;\">\n",
       "      <th></th>\n",
       "      <th>날짜</th>\n",
       "      <th>지점</th>\n",
       "      <th>평균기온(℃)</th>\n",
       "      <th>최저기온(℃)</th>\n",
       "      <th>최고기온(℃)</th>\n",
       "    </tr>\n",
       "  </thead>\n",
       "  <tbody>\n",
       "    <tr>\n",
       "      <th>31277</th>\n",
       "      <td>1994-07-24</td>\n",
       "      <td>108</td>\n",
       "      <td>33.1</td>\n",
       "      <td>28.1</td>\n",
       "      <td>38.4</td>\n",
       "    </tr>\n",
       "  </tbody>\n",
       "</table>\n",
       "</div>"
      ],
      "text/plain": [
       "               날짜   지점  평균기온(℃)  최저기온(℃)  최고기온(℃)\n",
       "31277  1994-07-24  108     33.1     28.1     38.4"
      ]
     },
     "execution_count": 22,
     "metadata": {},
     "output_type": "execute_result"
    }
   ],
   "source": [
    "df.sort_values('최고기온(℃)', ascending=False).head(1)"
   ]
  },
  {
   "cell_type": "code",
   "execution_count": null,
   "metadata": {},
   "outputs": [],
   "source": []
  },
  {
   "cell_type": "markdown",
   "metadata": {},
   "source": [
    "## 실습 2. 최고기온을 히스토그램으로 나타내되, bin의 범위를 4도로 만들어서, 히스토그램으로 보여주세요."
   ]
  },
  {
   "cell_type": "code",
   "execution_count": 28,
   "metadata": {},
   "outputs": [
    {
     "data": {
      "text/plain": [
       "-16.3"
      ]
     },
     "execution_count": 28,
     "metadata": {},
     "output_type": "execute_result"
    }
   ],
   "source": [
    "df['최고기온(℃)'].min()"
   ]
  },
  {
   "cell_type": "code",
   "execution_count": 29,
   "metadata": {},
   "outputs": [
    {
     "data": {
      "text/plain": [
       "38.4"
      ]
     },
     "execution_count": 29,
     "metadata": {},
     "output_type": "execute_result"
    }
   ],
   "source": [
    "df['최고기온(℃)'].max()"
   ]
  },
  {
   "cell_type": "code",
   "execution_count": 31,
   "metadata": {},
   "outputs": [],
   "source": [
    "# 4도 단위로 구간설정.  시작값, 끝값을 먼저 설정하면 된다. \n",
    "my_bins = np.arange( -17, 40+4, 4 )"
   ]
  },
  {
   "cell_type": "code",
   "execution_count": 32,
   "metadata": {},
   "outputs": [
    {
     "data": {
      "image/png": "[encoded data removed]",
      "text/plain": [
       "<Figure size 640x480 with 1 Axes>"
      ]
     },
     "metadata": {},
     "output_type": "display_data"
    }
   ],
   "source": [
    "my_bins = np.arange( -17, 40+4, 4 )\n",
    "plt.hist(data= df, x='최고기온(℃)', rwidth=0.8, bins= my_bins)\n",
    "plt.show()"
   ]
  },
  {
   "cell_type": "code",
   "execution_count": 23,
   "metadata": {},
   "outputs": [
    {
     "data": {
      "text/html": [
       "<div>\n",
       "<style scoped>\n",
       "    .dataframe tbody tr th:only-of-type {\n",
       "        vertical-align: middle;\n",
       "    }\n",
       "\n",
       "    .dataframe tbody tr th {\n",
       "        vertical-align: top;\n",
       "    }\n",
       "\n",
       "    .dataframe thead th {\n",
       "        text-align: right;\n",
       "    }\n",
       "</style>\n",
       "<table border=\"1\" class=\"dataframe\">\n",
       "  <thead>\n",
       "    <tr style=\"text-align: right;\">\n",
       "      <th></th>\n",
       "      <th>날짜</th>\n",
       "      <th>지점</th>\n",
       "      <th>평균기온(℃)</th>\n",
       "      <th>최저기온(℃)</th>\n",
       "      <th>최고기온(℃)</th>\n",
       "    </tr>\n",
       "  </thead>\n",
       "  <tbody>\n",
       "    <tr>\n",
       "      <th>0</th>\n",
       "      <td>1907-10-01</td>\n",
       "      <td>108</td>\n",
       "      <td>13.5</td>\n",
       "      <td>7.9</td>\n",
       "      <td>20.7</td>\n",
       "    </tr>\n",
       "    <tr>\n",
       "      <th>1</th>\n",
       "      <td>1907-10-02</td>\n",
       "      <td>108</td>\n",
       "      <td>16.2</td>\n",
       "      <td>7.9</td>\n",
       "      <td>22.0</td>\n",
       "    </tr>\n",
       "    <tr>\n",
       "      <th>2</th>\n",
       "      <td>1907-10-03</td>\n",
       "      <td>108</td>\n",
       "      <td>16.2</td>\n",
       "      <td>13.1</td>\n",
       "      <td>21.3</td>\n",
       "    </tr>\n",
       "    <tr>\n",
       "      <th>3</th>\n",
       "      <td>1907-10-04</td>\n",
       "      <td>108</td>\n",
       "      <td>16.5</td>\n",
       "      <td>11.2</td>\n",
       "      <td>22.0</td>\n",
       "    </tr>\n",
       "    <tr>\n",
       "      <th>4</th>\n",
       "      <td>1907-10-05</td>\n",
       "      <td>108</td>\n",
       "      <td>17.6</td>\n",
       "      <td>10.9</td>\n",
       "      <td>25.4</td>\n",
       "    </tr>\n",
       "    <tr>\n",
       "      <th>...</th>\n",
       "      <td>...</td>\n",
       "      <td>...</td>\n",
       "      <td>...</td>\n",
       "      <td>...</td>\n",
       "      <td>...</td>\n",
       "    </tr>\n",
       "    <tr>\n",
       "      <th>39921</th>\n",
       "      <td>2018-03-24</td>\n",
       "      <td>108</td>\n",
       "      <td>7.6</td>\n",
       "      <td>4.0</td>\n",
       "      <td>13.1</td>\n",
       "    </tr>\n",
       "    <tr>\n",
       "      <th>39922</th>\n",
       "      <td>2018-03-25</td>\n",
       "      <td>108</td>\n",
       "      <td>9.6</td>\n",
       "      <td>4.6</td>\n",
       "      <td>16.9</td>\n",
       "    </tr>\n",
       "    <tr>\n",
       "      <th>39923</th>\n",
       "      <td>2018-03-26</td>\n",
       "      <td>108</td>\n",
       "      <td>11.0</td>\n",
       "      <td>5.3</td>\n",
       "      <td>18.1</td>\n",
       "    </tr>\n",
       "    <tr>\n",
       "      <th>39924</th>\n",
       "      <td>2018-03-27</td>\n",
       "      <td>108</td>\n",
       "      <td>13.3</td>\n",
       "      <td>7.7</td>\n",
       "      <td>20.0</td>\n",
       "    </tr>\n",
       "    <tr>\n",
       "      <th>39925</th>\n",
       "      <td>2018-03-28</td>\n",
       "      <td>108</td>\n",
       "      <td>14.0</td>\n",
       "      <td>9.4</td>\n",
       "      <td>19.0</td>\n",
       "    </tr>\n",
       "  </tbody>\n",
       "</table>\n",
       "<p>39926 rows × 5 columns</p>\n",
       "</div>"
      ],
      "text/plain": [
       "               날짜   지점  평균기온(℃)  최저기온(℃)  최고기온(℃)\n",
       "0      1907-10-01  108     13.5      7.9     20.7\n",
       "1      1907-10-02  108     16.2      7.9     22.0\n",
       "2      1907-10-03  108     16.2     13.1     21.3\n",
       "3      1907-10-04  108     16.5     11.2     22.0\n",
       "4      1907-10-05  108     17.6     10.9     25.4\n",
       "...           ...  ...      ...      ...      ...\n",
       "39921  2018-03-24  108      7.6      4.0     13.1\n",
       "39922  2018-03-25  108      9.6      4.6     16.9\n",
       "39923  2018-03-26  108     11.0      5.3     18.1\n",
       "39924  2018-03-27  108     13.3      7.7     20.0\n",
       "39925  2018-03-28  108     14.0      9.4     19.0\n",
       "\n",
       "[39926 rows x 5 columns]"
      ]
     },
     "execution_count": 23,
     "metadata": {},
     "output_type": "execute_result"
    }
   ],
   "source": [
    "df"
   ]
  },
  {
   "cell_type": "code",
   "execution_count": null,
   "metadata": {},
   "outputs": [],
   "source": []
  },
  {
   "cell_type": "markdown",
   "metadata": {},
   "source": [
    "## 실습 3. 위에서는 모든 날짜에 대한 데이터 입니다.  그러면! 2014년도 부터의 데이터를 기준으로, bin의 범위를 4도로 만들어서, 히스토그램으로 보여주세요."
   ]
  },
  {
   "cell_type": "code",
   "execution_count": 36,
   "metadata": {},
   "outputs": [
    {
     "data": {
      "text/plain": [
       "0        False\n",
       "1        False\n",
       "2        False\n",
       "3        False\n",
       "4        False\n",
       "         ...  \n",
       "39921     True\n",
       "39922     True\n",
       "39923     True\n",
       "39924     True\n",
       "39925     True\n",
       "Name: 날짜, Length: 39926, dtype: bool"
      ]
     },
     "execution_count": 36,
     "metadata": {},
     "output_type": "execute_result"
    }
   ],
   "source": [
    "df['날짜'] >= '2014-01-01'"
   ]
  },
  {
   "cell_type": "code",
   "execution_count": 39,
   "metadata": {},
   "outputs": [],
   "source": [
    "df_2014 = df.loc[ df['날짜'] >= '2014-01-01' , ]"
   ]
  },
  {
   "cell_type": "code",
   "execution_count": 40,
   "metadata": {},
   "outputs": [
    {
     "data": {
      "text/html": [
       "<div>\n",
       "<style scoped>\n",
       "    .dataframe tbody tr th:only-of-type {\n",
       "        vertical-align: middle;\n",
       "    }\n",
       "\n",
       "    .dataframe tbody tr th {\n",
       "        vertical-align: top;\n",
       "    }\n",
       "\n",
       "    .dataframe thead th {\n",
       "        text-align: right;\n",
       "    }\n",
       "</style>\n",
       "<table border=\"1\" class=\"dataframe\">\n",
       "  <thead>\n",
       "    <tr style=\"text-align: right;\">\n",
       "      <th></th>\n",
       "      <th>날짜</th>\n",
       "      <th>지점</th>\n",
       "      <th>평균기온(℃)</th>\n",
       "      <th>최저기온(℃)</th>\n",
       "      <th>최고기온(℃)</th>\n",
       "    </tr>\n",
       "  </thead>\n",
       "  <tbody>\n",
       "    <tr>\n",
       "      <th>38378</th>\n",
       "      <td>2014-01-01</td>\n",
       "      <td>108</td>\n",
       "      <td>4.0</td>\n",
       "      <td>0.3</td>\n",
       "      <td>7.9</td>\n",
       "    </tr>\n",
       "    <tr>\n",
       "      <th>38379</th>\n",
       "      <td>2014-01-02</td>\n",
       "      <td>108</td>\n",
       "      <td>1.5</td>\n",
       "      <td>-1.3</td>\n",
       "      <td>6.2</td>\n",
       "    </tr>\n",
       "    <tr>\n",
       "      <th>38380</th>\n",
       "      <td>2014-01-03</td>\n",
       "      <td>108</td>\n",
       "      <td>2.3</td>\n",
       "      <td>-1.1</td>\n",
       "      <td>7.3</td>\n",
       "    </tr>\n",
       "    <tr>\n",
       "      <th>38381</th>\n",
       "      <td>2014-01-04</td>\n",
       "      <td>108</td>\n",
       "      <td>-0.1</td>\n",
       "      <td>-3.7</td>\n",
       "      <td>5.6</td>\n",
       "    </tr>\n",
       "    <tr>\n",
       "      <th>38382</th>\n",
       "      <td>2014-01-05</td>\n",
       "      <td>108</td>\n",
       "      <td>-0.8</td>\n",
       "      <td>-4.3</td>\n",
       "      <td>3.8</td>\n",
       "    </tr>\n",
       "    <tr>\n",
       "      <th>...</th>\n",
       "      <td>...</td>\n",
       "      <td>...</td>\n",
       "      <td>...</td>\n",
       "      <td>...</td>\n",
       "      <td>...</td>\n",
       "    </tr>\n",
       "    <tr>\n",
       "      <th>39921</th>\n",
       "      <td>2018-03-24</td>\n",
       "      <td>108</td>\n",
       "      <td>7.6</td>\n",
       "      <td>4.0</td>\n",
       "      <td>13.1</td>\n",
       "    </tr>\n",
       "    <tr>\n",
       "      <th>39922</th>\n",
       "      <td>2018-03-25</td>\n",
       "      <td>108</td>\n",
       "      <td>9.6</td>\n",
       "      <td>4.6</td>\n",
       "      <td>16.9</td>\n",
       "    </tr>\n",
       "    <tr>\n",
       "      <th>39923</th>\n",
       "      <td>2018-03-26</td>\n",
       "      <td>108</td>\n",
       "      <td>11.0</td>\n",
       "      <td>5.3</td>\n",
       "      <td>18.1</td>\n",
       "    </tr>\n",
       "    <tr>\n",
       "      <th>39924</th>\n",
       "      <td>2018-03-27</td>\n",
       "      <td>108</td>\n",
       "      <td>13.3</td>\n",
       "      <td>7.7</td>\n",
       "      <td>20.0</td>\n",
       "    </tr>\n",
       "    <tr>\n",
       "      <th>39925</th>\n",
       "      <td>2018-03-28</td>\n",
       "      <td>108</td>\n",
       "      <td>14.0</td>\n",
       "      <td>9.4</td>\n",
       "      <td>19.0</td>\n",
       "    </tr>\n",
       "  </tbody>\n",
       "</table>\n",
       "<p>1548 rows × 5 columns</p>\n",
       "</div>"
      ],
      "text/plain": [
       "               날짜   지점  평균기온(℃)  최저기온(℃)  최고기온(℃)\n",
       "38378  2014-01-01  108      4.0      0.3      7.9\n",
       "38379  2014-01-02  108      1.5     -1.3      6.2\n",
       "38380  2014-01-03  108      2.3     -1.1      7.3\n",
       "38381  2014-01-04  108     -0.1     -3.7      5.6\n",
       "38382  2014-01-05  108     -0.8     -4.3      3.8\n",
       "...           ...  ...      ...      ...      ...\n",
       "39921  2018-03-24  108      7.6      4.0     13.1\n",
       "39922  2018-03-25  108      9.6      4.6     16.9\n",
       "39923  2018-03-26  108     11.0      5.3     18.1\n",
       "39924  2018-03-27  108     13.3      7.7     20.0\n",
       "39925  2018-03-28  108     14.0      9.4     19.0\n",
       "\n",
       "[1548 rows x 5 columns]"
      ]
     },
     "execution_count": 40,
     "metadata": {},
     "output_type": "execute_result"
    }
   ],
   "source": [
    "df_2014"
   ]
  },
  {
   "cell_type": "code",
   "execution_count": 41,
   "metadata": {},
   "outputs": [
    {
     "data": {
      "text/plain": [
       "-10.7"
      ]
     },
     "execution_count": 41,
     "metadata": {},
     "output_type": "execute_result"
    }
   ],
   "source": [
    "df_2014['최고기온(℃)'].min()"
   ]
  },
  {
   "cell_type": "code",
   "execution_count": 43,
   "metadata": {},
   "outputs": [
    {
     "data": {
      "text/plain": [
       "36.6"
      ]
     },
     "execution_count": 43,
     "metadata": {},
     "output_type": "execute_result"
    }
   ],
   "source": [
    "df_2014['최고기온(℃)'].max()"
   ]
  },
  {
   "cell_type": "code",
   "execution_count": 45,
   "metadata": {},
   "outputs": [],
   "source": [
    "my_bins = np.arange(-11, 37+4, 4)"
   ]
  },
  {
   "cell_type": "code",
   "execution_count": 46,
   "metadata": {},
   "outputs": [
    {
     "data": {
      "image/png": "[encoded data removed]",
      "text/plain": [
       "<Figure size 640x480 with 1 Axes>"
      ]
     },
     "metadata": {},
     "output_type": "display_data"
    }
   ],
   "source": [
    "my_bins = np.arange(-11, 37+4, 4)\n",
    "plt.hist(data= df_2014, x='최고기온(℃)', rwidth=0.8, bins= my_bins)\n",
    "plt.show()"
   ]
  },
  {
   "cell_type": "code",
   "execution_count": 50,
   "metadata": {},
   "outputs": [
    {
     "data": {
      "image/png": "[encoded data removed]",
      "text/plain": [
       "<Figure size 1000x400 with 2 Axes>"
      ]
     },
     "metadata": {},
     "output_type": "display_data"
    }
   ],
   "source": [
    "plt.figure(figsize=(10,4))\n",
    "\n",
    "plt.subplot(1, 2, 1)\n",
    "\n",
    "my_bins = np.arange( -17, 40+4, 4 )\n",
    "plt.hist(data= df, x='최고기온(℃)', rwidth=0.8, bins= my_bins)\n",
    "\n",
    "plt.subplot(1, 2, 2)\n",
    "\n",
    "my_bins = np.arange(-11, 40+4, 4)\n",
    "plt.hist(data= df_2014, x='최고기온(℃)', rwidth=0.8, bins= my_bins)\n",
    "\n",
    "plt.show()"
   ]
  },
  {
   "cell_type": "code",
   "execution_count": null,
   "metadata": {},
   "outputs": [],
   "source": []
  },
  {
   "cell_type": "code",
   "execution_count": null,
   "metadata": {},
   "outputs": [],
   "source": []
  },
  {
   "cell_type": "code",
   "execution_count": null,
   "metadata": {},
   "outputs": [],
   "source": []
  },
  {
   "cell_type": "markdown",
   "metadata": {},
   "source": [
    "## 실습 4.  2017-08-01 ~ 2017-08-15 사이의 데이터에서, 날짜를 x축,  최고기온을 y축으로 스케터로 나타내세요."
   ]
  },
  {
   "cell_type": "code",
   "execution_count": 54,
   "metadata": {},
   "outputs": [
    {
     "data": {
      "text/plain": [
       "0        False\n",
       "1        False\n",
       "2        False\n",
       "3        False\n",
       "4        False\n",
       "         ...  \n",
       "39921    False\n",
       "39922    False\n",
       "39923    False\n",
       "39924    False\n",
       "39925    False\n",
       "Name: 날짜, Length: 39926, dtype: bool"
      ]
     },
     "execution_count": 54,
     "metadata": {},
     "output_type": "execute_result"
    }
   ],
   "source": [
    "( df['날짜'] >= '2017-08-01' )  &  ( df['날짜'] <= '2017-08-15' )"
   ]
  },
  {
   "cell_type": "code",
   "execution_count": 56,
   "metadata": {},
   "outputs": [],
   "source": [
    "df_new = df.loc[ ( df['날짜'] >= '2017-08-01' )  &  ( df['날짜'] <= '2017-08-15' ) , ]"
   ]
  },
  {
   "cell_type": "code",
   "execution_count": 57,
   "metadata": {},
   "outputs": [
    {
     "data": {
      "text/html": [
       "<div>\n",
       "<style scoped>\n",
       "    .dataframe tbody tr th:only-of-type {\n",
       "        vertical-align: middle;\n",
       "    }\n",
       "\n",
       "    .dataframe tbody tr th {\n",
       "        vertical-align: top;\n",
       "    }\n",
       "\n",
       "    .dataframe thead th {\n",
       "        text-align: right;\n",
       "    }\n",
       "</style>\n",
       "<table border=\"1\" class=\"dataframe\">\n",
       "  <thead>\n",
       "    <tr style=\"text-align: right;\">\n",
       "      <th></th>\n",
       "      <th>날짜</th>\n",
       "      <th>지점</th>\n",
       "      <th>평균기온(℃)</th>\n",
       "      <th>최저기온(℃)</th>\n",
       "      <th>최고기온(℃)</th>\n",
       "    </tr>\n",
       "  </thead>\n",
       "  <tbody>\n",
       "    <tr>\n",
       "      <th>39686</th>\n",
       "      <td>2017-08-01</td>\n",
       "      <td>108</td>\n",
       "      <td>28.6</td>\n",
       "      <td>24.1</td>\n",
       "      <td>33.0</td>\n",
       "    </tr>\n",
       "    <tr>\n",
       "      <th>39687</th>\n",
       "      <td>2017-08-02</td>\n",
       "      <td>108</td>\n",
       "      <td>30.0</td>\n",
       "      <td>26.6</td>\n",
       "      <td>33.0</td>\n",
       "    </tr>\n",
       "    <tr>\n",
       "      <th>39688</th>\n",
       "      <td>2017-08-03</td>\n",
       "      <td>108</td>\n",
       "      <td>30.2</td>\n",
       "      <td>27.2</td>\n",
       "      <td>33.9</td>\n",
       "    </tr>\n",
       "    <tr>\n",
       "      <th>39689</th>\n",
       "      <td>2017-08-04</td>\n",
       "      <td>108</td>\n",
       "      <td>30.3</td>\n",
       "      <td>25.9</td>\n",
       "      <td>35.3</td>\n",
       "    </tr>\n",
       "    <tr>\n",
       "      <th>39690</th>\n",
       "      <td>2017-08-05</td>\n",
       "      <td>108</td>\n",
       "      <td>31.4</td>\n",
       "      <td>27.6</td>\n",
       "      <td>34.8</td>\n",
       "    </tr>\n",
       "    <tr>\n",
       "      <th>39691</th>\n",
       "      <td>2017-08-06</td>\n",
       "      <td>108</td>\n",
       "      <td>29.8</td>\n",
       "      <td>28.2</td>\n",
       "      <td>34.0</td>\n",
       "    </tr>\n",
       "    <tr>\n",
       "      <th>39692</th>\n",
       "      <td>2017-08-07</td>\n",
       "      <td>108</td>\n",
       "      <td>29.2</td>\n",
       "      <td>26.4</td>\n",
       "      <td>34.4</td>\n",
       "    </tr>\n",
       "    <tr>\n",
       "      <th>39693</th>\n",
       "      <td>2017-08-08</td>\n",
       "      <td>108</td>\n",
       "      <td>28.2</td>\n",
       "      <td>25.5</td>\n",
       "      <td>31.0</td>\n",
       "    </tr>\n",
       "    <tr>\n",
       "      <th>39694</th>\n",
       "      <td>2017-08-09</td>\n",
       "      <td>108</td>\n",
       "      <td>27.6</td>\n",
       "      <td>24.6</td>\n",
       "      <td>32.0</td>\n",
       "    </tr>\n",
       "    <tr>\n",
       "      <th>39695</th>\n",
       "      <td>2017-08-10</td>\n",
       "      <td>108</td>\n",
       "      <td>24.8</td>\n",
       "      <td>23.9</td>\n",
       "      <td>26.3</td>\n",
       "    </tr>\n",
       "    <tr>\n",
       "      <th>39696</th>\n",
       "      <td>2017-08-11</td>\n",
       "      <td>108</td>\n",
       "      <td>27.0</td>\n",
       "      <td>23.9</td>\n",
       "      <td>32.4</td>\n",
       "    </tr>\n",
       "    <tr>\n",
       "      <th>39697</th>\n",
       "      <td>2017-08-12</td>\n",
       "      <td>108</td>\n",
       "      <td>27.8</td>\n",
       "      <td>23.2</td>\n",
       "      <td>32.6</td>\n",
       "    </tr>\n",
       "    <tr>\n",
       "      <th>39698</th>\n",
       "      <td>2017-08-13</td>\n",
       "      <td>108</td>\n",
       "      <td>26.3</td>\n",
       "      <td>24.2</td>\n",
       "      <td>28.4</td>\n",
       "    </tr>\n",
       "    <tr>\n",
       "      <th>39699</th>\n",
       "      <td>2017-08-14</td>\n",
       "      <td>108</td>\n",
       "      <td>24.6</td>\n",
       "      <td>23.1</td>\n",
       "      <td>27.1</td>\n",
       "    </tr>\n",
       "    <tr>\n",
       "      <th>39700</th>\n",
       "      <td>2017-08-15</td>\n",
       "      <td>108</td>\n",
       "      <td>21.9</td>\n",
       "      <td>20.8</td>\n",
       "      <td>24.0</td>\n",
       "    </tr>\n",
       "  </tbody>\n",
       "</table>\n",
       "</div>"
      ],
      "text/plain": [
       "               날짜   지점  평균기온(℃)  최저기온(℃)  최고기온(℃)\n",
       "39686  2017-08-01  108     28.6     24.1     33.0\n",
       "39687  2017-08-02  108     30.0     26.6     33.0\n",
       "39688  2017-08-03  108     30.2     27.2     33.9\n",
       "39689  2017-08-04  108     30.3     25.9     35.3\n",
       "39690  2017-08-05  108     31.4     27.6     34.8\n",
       "39691  2017-08-06  108     29.8     28.2     34.0\n",
       "39692  2017-08-07  108     29.2     26.4     34.4\n",
       "39693  2017-08-08  108     28.2     25.5     31.0\n",
       "39694  2017-08-09  108     27.6     24.6     32.0\n",
       "39695  2017-08-10  108     24.8     23.9     26.3\n",
       "39696  2017-08-11  108     27.0     23.9     32.4\n",
       "39697  2017-08-12  108     27.8     23.2     32.6\n",
       "39698  2017-08-13  108     26.3     24.2     28.4\n",
       "39699  2017-08-14  108     24.6     23.1     27.1\n",
       "39700  2017-08-15  108     21.9     20.8     24.0"
      ]
     },
     "execution_count": 57,
     "metadata": {},
     "output_type": "execute_result"
    }
   ],
   "source": [
    "df_new"
   ]
  },
  {
   "cell_type": "code",
   "execution_count": 59,
   "metadata": {},
   "outputs": [
    {
     "data": {
      "image/png": "[encoded data removed]",
      "text/plain": [
       "<Figure size 640x480 with 1 Axes>"
      ]
     },
     "metadata": {},
     "output_type": "display_data"
    }
   ],
   "source": [
    "plt.scatter(data= df_new, x='날짜', y='최고기온(℃)')\n",
    "plt.xticks(rotation=60)\n",
    "plt.show()"
   ]
  },
  {
   "cell_type": "code",
   "execution_count": null,
   "metadata": {},
   "outputs": [],
   "source": []
  },
  {
   "cell_type": "code",
   "execution_count": null,
   "metadata": {},
   "outputs": [],
   "source": []
  },
  {
   "cell_type": "code",
   "execution_count": null,
   "metadata": {},
   "outputs": [],
   "source": []
  }
 ],
 "metadata": {
  "kernelspec": {
   "display_name": "Python 3 (ipykernel)",
   "language": "python",
   "name": "python3"
  },
  "language_info": {
   "codemirror_mode": {
    "name": "ipython",
    "version": 3
   },
   "file_extension": ".py",
   "mimetype": "text/x-python",
   "name": "python",
   "nbconvert_exporter": "python",
   "pygments_lexer": "ipython3",
   "version": "3.10.18"
  }
 },
 "nbformat": 4,
 "nbformat_minor": 4
}
